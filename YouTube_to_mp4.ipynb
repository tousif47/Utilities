{
  "nbformat": 4,
  "nbformat_minor": 0,
  "metadata": {
    "colab": {
      "provenance": [],
      "authorship_tag": "ABX9TyO8SH39GSH0jHMXHW6+8oky",
      "include_colab_link": true
    },
    "kernelspec": {
      "name": "python3",
      "display_name": "Python 3"
    },
    "language_info": {
      "name": "python"
    }
  },
  "cells": [
    {
      "cell_type": "markdown",
      "metadata": {
        "id": "view-in-github",
        "colab_type": "text"
      },
      "source": [
        "<a href=\"https://colab.research.google.com/github/tousif47/Utilities/blob/main/YouTube_to_mp4.ipynb\" target=\"_parent\"><img src=\"https://colab.research.google.com/assets/colab-badge.svg\" alt=\"Open In Colab\"/></a>"
      ]
    },
    {
      "cell_type": "code",
      "source": [
        "!pip install yt-dlp"
      ],
      "metadata": {
        "colab": {
          "base_uri": "https://localhost:8080/"
        },
        "id": "CyV9_L7gI3ml",
        "outputId": "e79e1a2d-89c5-4076-e077-3d2426414831"
      },
      "execution_count": 5,
      "outputs": [
        {
          "output_type": "stream",
          "name": "stdout",
          "text": [
            "Requirement already satisfied: yt-dlp in /usr/local/lib/python3.11/dist-packages (2025.2.19)\n"
          ]
        }
      ]
    },
    {
      "cell_type": "code",
      "execution_count": 6,
      "metadata": {
        "colab": {
          "base_uri": "https://localhost:8080/",
          "height": 374
        },
        "id": "sWBy-x-jIQsd",
        "outputId": "7328d9c0-fba1-466e-bfa4-b42210b7d3d1"
      },
      "outputs": [
        {
          "output_type": "stream",
          "name": "stdout",
          "text": [
            "Please enter the YouTube video link: https://youtube.com/shorts/7TAZn6u4qi8?si=1cMwlvR0HPJq9kER\n",
            "[youtube] Extracting URL: https://youtube.com/shorts/7TAZn6u4qi8?si=1cMwlvR0HPJq9kER\n",
            "[youtube] 7TAZn6u4qi8: Downloading webpage\n",
            "[youtube] 7TAZn6u4qi8: Downloading tv client config\n",
            "[youtube] 7TAZn6u4qi8: Downloading player c8dbda2a\n",
            "[youtube] 7TAZn6u4qi8: Downloading tv player API JSON\n",
            "[youtube] 7TAZn6u4qi8: Downloading ios player API JSON\n",
            "[youtube] 7TAZn6u4qi8: Downloading m3u8 information\n",
            "[info] Testing format 617\n",
            "[info] 7TAZn6u4qi8: Downloading 1 format(s): 617+140\n",
            "[hlsnative] Downloading m3u8 manifest\n",
            "[hlsnative] Total fragments: 7\n",
            "[download] Destination: You can destroy AAA at the airfield with your tank #warthunder #drone #artillery #indirectfire.f617.mp4\n",
            "[download] 100% of    5.05MiB in 00:00:00 at 8.86MiB/s                 \n",
            "[download] Destination: You can destroy AAA at the airfield with your tank #warthunder #drone #artillery #indirectfire.f140.m4a\n",
            "[download] 100% of  641.36KiB in 00:00:00 at 1.65MiB/s   \n",
            "[Merger] Merging formats into \"You can destroy AAA at the airfield with your tank #warthunder #drone #artillery #indirectfire.mp4\"\n",
            "Deleting original file You can destroy AAA at the airfield with your tank #warthunder #drone #artillery #indirectfire.f617.mp4 (pass -k to keep)\n",
            "Deleting original file You can destroy AAA at the airfield with your tank #warthunder #drone #artillery #indirectfire.f140.m4a (pass -k to keep)\n"
          ]
        },
        {
          "output_type": "display_data",
          "data": {
            "text/plain": [
              "<IPython.core.display.Javascript object>"
            ],
            "application/javascript": [
              "\n",
              "    async function download(id, filename, size) {\n",
              "      if (!google.colab.kernel.accessAllowed) {\n",
              "        return;\n",
              "      }\n",
              "      const div = document.createElement('div');\n",
              "      const label = document.createElement('label');\n",
              "      label.textContent = `Downloading \"${filename}\": `;\n",
              "      div.appendChild(label);\n",
              "      const progress = document.createElement('progress');\n",
              "      progress.max = size;\n",
              "      div.appendChild(progress);\n",
              "      document.body.appendChild(div);\n",
              "\n",
              "      const buffers = [];\n",
              "      let downloaded = 0;\n",
              "\n",
              "      const channel = await google.colab.kernel.comms.open(id);\n",
              "      // Send a message to notify the kernel that we're ready.\n",
              "      channel.send({})\n",
              "\n",
              "      for await (const message of channel.messages) {\n",
              "        // Send a message to notify the kernel that we're ready.\n",
              "        channel.send({})\n",
              "        if (message.buffers) {\n",
              "          for (const buffer of message.buffers) {\n",
              "            buffers.push(buffer);\n",
              "            downloaded += buffer.byteLength;\n",
              "            progress.value = downloaded;\n",
              "          }\n",
              "        }\n",
              "      }\n",
              "      const blob = new Blob(buffers, {type: 'application/binary'});\n",
              "      const a = document.createElement('a');\n",
              "      a.href = window.URL.createObjectURL(blob);\n",
              "      a.download = filename;\n",
              "      div.appendChild(a);\n",
              "      a.click();\n",
              "      div.remove();\n",
              "    }\n",
              "  "
            ]
          },
          "metadata": {}
        },
        {
          "output_type": "display_data",
          "data": {
            "text/plain": [
              "<IPython.core.display.Javascript object>"
            ],
            "application/javascript": [
              "download(\"download_7f2306a1-d4cd-4e2e-be8a-e618c01ec850\", \"You can destroy AAA at the airfield with your tank #warthunder #drone #artillery #indirectfire.mp4\", 5975739)"
            ]
          },
          "metadata": {}
        },
        {
          "output_type": "stream",
          "name": "stdout",
          "text": [
            "Download complete. The video file has been saved to your local hard drive.\n"
          ]
        }
      ],
      "source": [
        "# Import necessary libraries\n",
        "import os\n",
        "from yt_dlp import YoutubeDL\n",
        "from google.colab import files\n",
        "\n",
        "# Ask the user for the YouTube video link\n",
        "video_url = input(\"Please enter the YouTube video link: \")\n",
        "\n",
        "# Set the options for yt-dlp\n",
        "ydl_opts = {\n",
        "    'format': 'bestvideo[ext=mp4]+bestaudio[ext=m4a]/best[ext=mp4]/best',  # Choose the best MP4 quality available\n",
        "    'outtmpl': '%(title)s.%(ext)s',  # Output file name template\n",
        "}\n",
        "\n",
        "# Download the video\n",
        "with YoutubeDL(ydl_opts) as ydl:\n",
        "    info_dict = ydl.extract_info(video_url, download=True)\n",
        "    file_name = ydl.prepare_filename(info_dict)\n",
        "\n",
        "# Download the file to your local machine\n",
        "files.download(file_name)\n",
        "\n",
        "# Inform the user about the download completion\n",
        "print(\"Download complete. The video file has been saved to your local hard drive.\")"
      ]
    }
  ]
}