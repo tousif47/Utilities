{
  "nbformat": 4,
  "nbformat_minor": 0,
  "metadata": {
    "colab": {
      "provenance": [],
      "authorship_tag": "ABX9TyOzEK5ZG6OyfoH7j6rJTOl9",
      "include_colab_link": true
    },
    "kernelspec": {
      "name": "python3",
      "display_name": "Python 3"
    },
    "language_info": {
      "name": "python"
    }
  },
  "cells": [
    {
      "cell_type": "markdown",
      "metadata": {
        "id": "view-in-github",
        "colab_type": "text"
      },
      "source": [
        "<a href=\"https://colab.research.google.com/github/tousif47/Utilities/blob/main/YouTube_to_mp3.ipynb\" target=\"_parent\"><img src=\"https://colab.research.google.com/assets/colab-badge.svg\" alt=\"Open In Colab\"/></a>"
      ]
    },
    {
      "cell_type": "code",
      "source": [
        "!pip install yt-dlp\n",
        "\n",
        "print(\"Done!\")"
      ],
      "metadata": {
        "colab": {
          "base_uri": "https://localhost:8080/"
        },
        "id": "V9cAuquatbLk",
        "outputId": "60a2a6c8-22ca-43cb-fc60-99e8e341819f"
      },
      "execution_count": 1,
      "outputs": [
        {
          "output_type": "stream",
          "name": "stdout",
          "text": [
            "Collecting yt-dlp\n",
            "  Downloading yt_dlp-2025.1.26-py3-none-any.whl.metadata (172 kB)\n",
            "\u001b[2K     \u001b[90m━━━━━━━━━━━━━━━━━━━━━━━━━━━━━━━━━━━━━━━━\u001b[0m \u001b[32m172.0/172.0 kB\u001b[0m \u001b[31m3.3 MB/s\u001b[0m eta \u001b[36m0:00:00\u001b[0m\n",
            "\u001b[?25hDownloading yt_dlp-2025.1.26-py3-none-any.whl (3.2 MB)\n",
            "\u001b[2K   \u001b[90m━━━━━━━━━━━━━━━━━━━━━━━━━━━━━━━━━━━━━━━━\u001b[0m \u001b[32m3.2/3.2 MB\u001b[0m \u001b[31m39.2 MB/s\u001b[0m eta \u001b[36m0:00:00\u001b[0m\n",
            "\u001b[?25hInstalling collected packages: yt-dlp\n",
            "Successfully installed yt-dlp-2025.1.26\n",
            "Done!\n"
          ]
        }
      ]
    },
    {
      "cell_type": "code",
      "execution_count": 7,
      "metadata": {
        "colab": {
          "base_uri": "https://localhost:8080/",
          "height": 267
        },
        "id": "k7-ZdfnFtJUu",
        "outputId": "a62d00b1-7272-4ec4-ebf1-6f407fbf715c"
      },
      "outputs": [
        {
          "output_type": "stream",
          "name": "stdout",
          "text": [
            "Please enter the YouTube video link: https://youtu.be/z3OKd5b2Rlw?si=2NP5aHEr6vTpuG4V\n",
            "[youtube] Extracting URL: https://youtu.be/z3OKd5b2Rlw?si=2NP5aHEr6vTpuG4V\n",
            "[youtube] z3OKd5b2Rlw: Downloading webpage\n",
            "[youtube] z3OKd5b2Rlw: Downloading tv client config\n",
            "[youtube] z3OKd5b2Rlw: Downloading player e7567ecf\n",
            "[youtube] z3OKd5b2Rlw: Downloading tv player API JSON\n",
            "[youtube] z3OKd5b2Rlw: Downloading ios player API JSON\n",
            "[youtube] z3OKd5b2Rlw: Downloading m3u8 information\n",
            "[info] z3OKd5b2Rlw: Downloading 1 format(s): 251\n",
            "[download] Destination: Nightcore ｜ Sweet Little Bumblebee (lyric video).webm\n",
            "[download] 100% of    2.80MiB in 00:00:00 at 20.07MiB/s  \n",
            "[ExtractAudio] Destination: Nightcore ｜ Sweet Little Bumblebee (lyric video).mp3\n",
            "Deleting original file Nightcore ｜ Sweet Little Bumblebee (lyric video).webm (pass -k to keep)\n"
          ]
        },
        {
          "output_type": "display_data",
          "data": {
            "text/plain": [
              "<IPython.core.display.Javascript object>"
            ],
            "application/javascript": [
              "\n",
              "    async function download(id, filename, size) {\n",
              "      if (!google.colab.kernel.accessAllowed) {\n",
              "        return;\n",
              "      }\n",
              "      const div = document.createElement('div');\n",
              "      const label = document.createElement('label');\n",
              "      label.textContent = `Downloading \"${filename}\": `;\n",
              "      div.appendChild(label);\n",
              "      const progress = document.createElement('progress');\n",
              "      progress.max = size;\n",
              "      div.appendChild(progress);\n",
              "      document.body.appendChild(div);\n",
              "\n",
              "      const buffers = [];\n",
              "      let downloaded = 0;\n",
              "\n",
              "      const channel = await google.colab.kernel.comms.open(id);\n",
              "      // Send a message to notify the kernel that we're ready.\n",
              "      channel.send({})\n",
              "\n",
              "      for await (const message of channel.messages) {\n",
              "        // Send a message to notify the kernel that we're ready.\n",
              "        channel.send({})\n",
              "        if (message.buffers) {\n",
              "          for (const buffer of message.buffers) {\n",
              "            buffers.push(buffer);\n",
              "            downloaded += buffer.byteLength;\n",
              "            progress.value = downloaded;\n",
              "          }\n",
              "        }\n",
              "      }\n",
              "      const blob = new Blob(buffers, {type: 'application/binary'});\n",
              "      const a = document.createElement('a');\n",
              "      a.href = window.URL.createObjectURL(blob);\n",
              "      a.download = filename;\n",
              "      div.appendChild(a);\n",
              "      a.click();\n",
              "      div.remove();\n",
              "    }\n",
              "  "
            ]
          },
          "metadata": {}
        },
        {
          "output_type": "display_data",
          "data": {
            "text/plain": [
              "<IPython.core.display.Javascript object>"
            ],
            "application/javascript": [
              "download(\"download_c1a67096-8be7-4f45-a808-8274467d09f4\", \"Nightcore \\uff5c Sweet Little Bumblebee (lyric video).mp3\", 4322349)"
            ]
          },
          "metadata": {}
        },
        {
          "output_type": "stream",
          "name": "stdout",
          "text": [
            "Download complete. The audio file has been saved to your local hard drive.\n"
          ]
        }
      ],
      "source": [
        "# Import necessary libraries\n",
        "import os\n",
        "from yt_dlp import YoutubeDL\n",
        "from google.colab import files\n",
        "\n",
        "# Ask the user for the YouTube video link\n",
        "video_url = input(\"Please enter the YouTube video link: \")\n",
        "\n",
        "# Set the options for yt-dlp\n",
        "ydl_opts = {\n",
        "    'format': 'bestaudio/best',  # Choose the best audio quality available\n",
        "    'postprocessors': [{  # Extract audio using ffmpeg\n",
        "        'key': 'FFmpegExtractAudio',\n",
        "        'preferredcodec': 'mp3',  # Convert to MP3 format\n",
        "        'preferredquality': '192',  # Set the quality of the MP3\n",
        "    }],\n",
        "    'outtmpl': '%(title)s.%(ext)s',  # Output file name template\n",
        "}\n",
        "\n",
        "# Download the audio\n",
        "with YoutubeDL(ydl_opts) as ydl:\n",
        "    info_dict = ydl.extract_info(video_url, download=True)\n",
        "    file_name = ydl.prepare_filename(info_dict).replace('.webm', '.mp3').replace('.m4a', '.mp3')\n",
        "\n",
        "# Download the file to your local machine\n",
        "files.download(file_name)\n",
        "\n",
        "# Inform the user about the download completion\n",
        "print(\"Download complete. The audio file has been saved to your local hard drive.\")"
      ]
    }
  ]
}